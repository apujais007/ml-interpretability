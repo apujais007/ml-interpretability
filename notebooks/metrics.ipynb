{
 "cells": [
  {
   "cell_type": "code",
   "execution_count": 2,
   "id": "06ba81f9",
   "metadata": {},
   "outputs": [],
   "source": [
    "import joblib\n",
    "\n",
    "y_test = joblib.load('../data/y_test.joblib')\n",
    "y_pred_lr = joblib.load('../data/y_pred_lr.joblib')\n",
    "y_pred_dt = joblib.load('../data/y_pred_dt.joblib')"
   ]
  },
  {
   "cell_type": "code",
   "execution_count": 3,
   "id": "c9d8562c",
   "metadata": {},
   "outputs": [
    {
     "name": "stdout",
     "output_type": "stream",
     "text": [
      "Logistic Regression Metrics\n",
      "              precision    recall  f1-score   support\n",
      "\n",
      "           0       0.98      0.95      0.96        43\n",
      "           1       0.97      0.99      0.98        71\n",
      "\n",
      "    accuracy                           0.97       114\n",
      "   macro avg       0.97      0.97      0.97       114\n",
      "weighted avg       0.97      0.97      0.97       114\n",
      "\n",
      "Decision Tree Metrics\n",
      "              precision    recall  f1-score   support\n",
      "\n",
      "           0       0.93      0.93      0.93        43\n",
      "           1       0.96      0.96      0.96        71\n",
      "\n",
      "    accuracy                           0.95       114\n",
      "   macro avg       0.94      0.94      0.94       114\n",
      "weighted avg       0.95      0.95      0.95       114\n",
      "\n",
      "Precision, Recall, and F1-Score\n",
      "Logistic Regression\n",
      "Precision: 0.9722222222222222\n",
      "Recall: 0.9859154929577465\n",
      "F1-Score: 0.9790209790209791\n",
      "Decision Tree\n",
      "Precision: 0.9577464788732394\n",
      "Recall: 0.9577464788732394\n",
      "F1-Score: 0.9577464788732394\n"
     ]
    }
   ],
   "source": [
    "# Libraries\n",
    "from sklearn.metrics import precision_score, recall_score, f1_score, classification_report\n",
    "\n",
    "# Assuming y_test, y_pred_lr, y_pred_dt from previous notebook\n",
    "\n",
    "# Logistic Regression metrics\n",
    "print(\"Logistic Regression Metrics\")\n",
    "print(classification_report(y_test, y_pred_lr))\n",
    "\n",
    "# Decision Tree metrics\n",
    "print(\"Decision Tree Metrics\")\n",
    "print(classification_report(y_test, y_pred_dt))\n",
    "\n",
    "# Precision, Recall, and F1-Score\n",
    "print(\"Precision, Recall, and F1-Score\")\n",
    "print(\"Logistic Regression\")\n",
    "print(\"Precision:\", precision_score(y_test, y_pred_lr))\n",
    "print(\"Recall:\", recall_score(y_test, y_pred_lr))\n",
    "print(\"F1-Score:\", f1_score(y_test, y_pred_lr))\n",
    "print(\"Decision Tree\")\n",
    "print(\"Precision:\", precision_score(y_test, y_pred_dt))\n",
    "print(\"Recall:\", recall_score(y_test, y_pred_dt))\n",
    "print(\"F1-Score:\", f1_score(y_test, y_pred_dt))"
   ]
  }
 ],
 "metadata": {
  "kernelspec": {
   "display_name": "Python 3",
   "language": "python",
   "name": "python3"
  },
  "language_info": {
   "codemirror_mode": {
    "name": "ipython",
    "version": 3
   },
   "file_extension": ".py",
   "mimetype": "text/x-python",
   "name": "python",
   "nbconvert_exporter": "python",
   "pygments_lexer": "ipython3",
   "version": "3.13.3"
  }
 },
 "nbformat": 4,
 "nbformat_minor": 5
}
